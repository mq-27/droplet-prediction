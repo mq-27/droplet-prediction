{
 "cells": [
  {
   "cell_type": "code",
   "execution_count": 1,
   "metadata": {},
   "outputs": [],
   "source": [
    "from copy import deepcopy\n",
    "import numpy as np\n",
    "%matplotlib inline\n",
    "\n",
    "import pandas as pd\n",
    "from sklearn.model_selection import train_test_split as tts\n",
    "from sklearn.ensemble import RandomForestRegressor\n",
    "from sklearn.model_selection import KFold, cross_validate\n",
    "from hyperopt import hp, fmin, tpe, Trials\n",
    "from hyperopt.early_stop import no_progress_loss\n",
    "from sklearn.model_selection import KFold, cross_validate\n",
    "import joblib\n",
    "\n",
    "import warnings \n",
    "warnings.filterwarnings(\"ignore\")\n",
    "\n",
    "import function"
   ]
  },
  {
   "cell_type": "code",
   "execution_count": 2,
   "metadata": {},
   "outputs": [],
   "source": [
    "df2_backup = pd.read_csv(\"data_model.csv\", index_col='Unnamed: 0')\n",
    "df2 = deepcopy(df2_backup)\n",
    "X, y = df2.iloc[:, :-1], df2.iloc[:, -1]\n",
    "Xtrain, Xtest, Ytrain, Ytest = tts(X, y, test_size=0.3, random_state=1)\n",
    "for i in [Xtrain, Xtest]:\n",
    "    i.index = range(i.shape[0])"
   ]
  },
  {
   "cell_type": "code",
   "execution_count": 3,
   "metadata": {},
   "outputs": [
    {
     "name": "stdout",
     "output_type": "stream",
     "text": [
      "r2_train: 0.9965129922754085\n",
      "r2_test: 0.9755928055993865\n",
      "mse_train: 0.00020178941951421993\n",
      "mse_test: 0.001372431142430183\n",
      "rmse_train: 0.014205260276187126\n",
      "rmse_test: 0.03704633777352605\n"
     ]
    }
   ],
   "source": [
    "rfr1 = RandomForestRegressor(random_state=1).fit(Xtrain, Ytrain)\n",
    "function.eval_regressor(rfr1, Xtrain, Ytrain, Xtest, Ytest)"
   ]
  },
  {
   "cell_type": "code",
   "execution_count": 5,
   "metadata": {},
   "outputs": [],
   "source": [
    "def hyperopt_objective(params):\n",
    "\n",
    "    reg = RandomForestRegressor(n_estimators=int(params[\"n_estimators\"]),\n",
    "                                max_depth=int(params[\"max_depth\"]),\n",
    "                                max_features=int(params[\"max_features\"]),\n",
    "                                random_state=1,\n",
    "                                verbose=False,\n",
    "                                n_jobs=6)\n",
    "\n",
    "    cv = KFold(n_splits=5,shuffle=True,random_state=1)\n",
    "    validation_loss = cross_validate(reg,\n",
    "                                     Xtrain, Ytrain,\n",
    "                                     scoring=\"neg_root_mean_squared_error\",\n",
    "                                     cv=cv,\n",
    "                                     verbose=False,\n",
    "                                     n_jobs=6,\n",
    "                                     error_score='raise'\n",
    "                                    )\n",
    "\n",
    "    return np.mean(abs(validation_loss[\"test_score\"]))"
   ]
  },
  {
   "cell_type": "code",
   "execution_count": 6,
   "metadata": {},
   "outputs": [],
   "source": [
    "param_grid_simple = {'n_estimators': hp.quniform(\"n_estimators\", 140, 180, 2),\n",
    "                     'max_depth': hp.quniform(\"max_depth\", 18, 25, 1),\n",
    "                     \"max_features\": hp.quniform(\"max_features\", 1, 8, 1)\n",
    "                    }"
   ]
  },
  {
   "cell_type": "code",
   "execution_count": 7,
   "metadata": {},
   "outputs": [],
   "source": [
    "def param_hyperopt(max_evals=100):\n",
    "\n",
    "    trials = Trials()\n",
    "\n",
    "    early_stop_fn = no_progress_loss(100)\n",
    "\n",
    "    params_best = fmin(hyperopt_objective, \n",
    "                       space=param_grid_simple, \n",
    "                       algo=tpe.suggest, \n",
    "                       max_evals=max_evals, \n",
    "                       verbose=True,\n",
    "                       trials=trials,\n",
    "                       early_stop_fn=early_stop_fn\n",
    "                      )\n",
    "\n",
    "    print(\"\\n\",\"\\n\",\"best params: \", params_best,\n",
    "          \"\\n\")\n",
    "    return params_best, trials"
   ]
  },
  {
   "cell_type": "code",
   "execution_count": null,
   "metadata": {},
   "outputs": [],
   "source": [
    "params_best, trials = param_hyperopt(240)"
   ]
  },
  {
   "cell_type": "code",
   "execution_count": 4,
   "metadata": {},
   "outputs": [
    {
     "name": "stdout",
     "output_type": "stream",
     "text": [
      "r2_train: 0.9969692544765298\n",
      "r2_test: 0.977200204225548\n",
      "mse_train: 0.00017538601235763554\n",
      "mse_test: 0.001282046156075997\n",
      "rmse_train: 0.013243338414374056\n",
      "rmse_test: 0.03580567212155075\n"
     ]
    }
   ],
   "source": [
    "rfr3 = RandomForestRegressor(n_estimators=160,\n",
    "                            max_depth=24,\n",
    "                            max_features=4,\n",
    "                            random_state=1).fit(Xtrain,Ytrain)\n",
    "function.eval_regressor(rfr3, Xtrain, Ytrain, Xtest, Ytest)"
   ]
  },
  {
   "cell_type": "code",
   "execution_count": null,
   "metadata": {},
   "outputs": [],
   "source": [
    "joblib.dump(rfr3, \"rf.dat\")"
   ]
  }
 ],
 "metadata": {
  "kernelspec": {
   "display_name": "channel",
   "language": "python",
   "name": "python3"
  },
  "language_info": {
   "codemirror_mode": {
    "name": "ipython",
    "version": 3
   },
   "file_extension": ".py",
   "mimetype": "text/x-python",
   "name": "python",
   "nbconvert_exporter": "python",
   "pygments_lexer": "ipython3",
   "version": "3.8.16"
  },
  "orig_nbformat": 4
 },
 "nbformat": 4,
 "nbformat_minor": 2
}
