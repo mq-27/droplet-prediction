{
 "cells": [
  {
   "cell_type": "code",
   "execution_count": 2,
   "metadata": {},
   "outputs": [],
   "source": [
    "from copy import deepcopy\n",
    "import numpy as np\n",
    "%matplotlib inline\n",
    "import pandas as pd\n",
    "from sklearn.model_selection import train_test_split as tts\n",
    "from sklearn.model_selection import KFold, cross_validate \n",
    "from xgboost import XGBRegressor\n",
    "import xgboost as xgb\n",
    "from hyperopt import hp, fmin, tpe, Trials\n",
    "from hyperopt.early_stop import no_progress_loss\n",
    "import joblib \n",
    "import warnings \n",
    "warnings.filterwarnings(\"ignore\") \n",
    "from warnings import simplefilter\n",
    "simplefilter(action='ignore', category=FutureWarning)\n",
    "import function"
   ]
  },
  {
   "cell_type": "code",
   "execution_count": 3,
   "metadata": {},
   "outputs": [],
   "source": [
    "df2_backup = pd.read_csv(\"data_model.csv\", index_col='Unnamed: 0')\n",
    "df2 = deepcopy(df2_backup)\n",
    "X, y = df2.iloc[:, :-1], df2.iloc[:, -1]\n",
    "Xtrain, Xtest, Ytrain, Ytest = tts(X, y, test_size=0.3, random_state=10)\n",
    "for i in [Xtrain, Xtest]:\n",
    "    i.index = range(i.shape[0])\n",
    "data_xgb = xgb.DMatrix(X, label=y)\n",
    "dtrain = xgb.DMatrix(Xtrain,Ytrain)\n",
    "dtest = xgb.DMatrix(Xtest,Ytest)"
   ]
  },
  {
   "cell_type": "code",
   "execution_count": 4,
   "metadata": {},
   "outputs": [],
   "source": [
    "def hyperopt_objective(params):\n",
    "    paramsforxgb = {\"eta\":params[\"eta\"]\n",
    "                    ,\"booster\":params[\"booster\"]\n",
    "                    ,\"colsample_bytree\":params[\"colsample_bytree\"]\n",
    "                    ,\"colsample_bynode\":params[\"colsample_bynode\"]\n",
    "                    ,\"gamma\":params[\"gamma\"]\n",
    "                    ,\"lambda\":params[\"lambda\"]\n",
    "                    ,\"min_child_weight\":params[\"min_child_weight\"]\n",
    "                    ,\"max_depth\":int(params[\"max_depth\"])\n",
    "                    ,\"objective\":params[\"objective\"]\n",
    "                    ,\"rate_drop\":params[\"rate_drop\"]\n",
    "                    ,\"nthread\":14\n",
    "                    ,\"verbosity\":0\n",
    "                    ,\"seed\":1412}\n",
    "    xgb.set_config(verbosity=0)\n",
    "    result = xgb.cv(params,dtrain, seed=1412, metrics=(\"rmse\")\n",
    "                    ,num_boost_round=int(params[\"num_boost_round\"]))\n",
    "    return result.iloc[-1,2]"
   ]
  },
  {
   "cell_type": "code",
   "execution_count": 5,
   "metadata": {},
   "outputs": [],
   "source": [
    "param_grid_simple = {'num_boost_round': hp.quniform(\"num_boost_round\",20,120,10)\n",
    "                     ,\"eta\": hp.quniform(\"eta\",0.05,1.05,0.05)\n",
    "                     ,\"booster\":hp.choice(\"booster\",[\"gbtree\",\"dart\"])\n",
    "                     ,\"colsample_bytree\":hp.quniform(\"colsample_bytree\",0.5,1,0.1)\n",
    "                     ,\"colsample_bynode\":hp.quniform(\"colsample_bynode\",0.5,1,0.1)\n",
    "                     ,\"gamma\":hp.quniform(\"gamma\",0,40,5)\n",
    "                     ,\"lambda\":hp.quniform(\"lambda\",0,1.5,0.2)\n",
    "                     ,\"min_child_weight\":hp.quniform(\"min_child_weight\",0,50,2)\n",
    "                     ,\"max_depth\":hp.choice(\"max_depth\",[*range(2,30,2)])\n",
    "                     ,\"objective\":hp.choice(\"objective\",[\"reg:squarederror\",\"reg:squaredlogerror\"])\n",
    "                     ,\"rate_drop\":hp.quniform(\"rate_drop\",0.1,1,0.1)\n",
    "                    }"
   ]
  },
  {
   "cell_type": "code",
   "execution_count": 6,
   "metadata": {},
   "outputs": [],
   "source": [
    "def param_hyperopt(max_evals=100):\n",
    "\n",
    "    trials = Trials()\n",
    "\n",
    "    early_stop_fn = no_progress_loss(30)\n",
    "\n",
    "    params_best = fmin(hyperopt_objective\n",
    "                       , space = param_grid_simple\n",
    "                       , algo = tpe.suggest\n",
    "                       , max_evals = max_evals\n",
    "                       , trials = trials\n",
    "                       , verbose = True\n",
    "                       , early_stop_fn = early_stop_fn\n",
    "                      )\n",
    "    print(\"\\n\",\"\\n\",\"best params: \", params_best,\n",
    "          \"\\n\")\n",
    "    return params_best, trials"
   ]
  },
  {
   "cell_type": "code",
   "execution_count": 7,
   "metadata": {},
   "outputs": [
    {
     "name": "stdout",
     "output_type": "stream",
     "text": [
      " 96%|█████████▌| 96/100 [01:08<00:02,  1.40trial/s, best loss: 0.03843060628943832] \n",
      "\n",
      " \n",
      " best params:  {'booster': 0, 'colsample_bynode': 0.8, 'colsample_bytree': 0.7000000000000001, 'eta': 0.25, 'gamma': 0.0, 'lambda': 0.4, 'max_depth': 5, 'min_child_weight': 28.0, 'num_boost_round': 70.0, 'objective': 0, 'rate_drop': 0.9} \n",
      "\n"
     ]
    }
   ],
   "source": [
    "params_best, trials = param_hyperopt(100)"
   ]
  },
  {
   "cell_type": "code",
   "execution_count": 9,
   "metadata": {},
   "outputs": [],
   "source": [
    "params = {'colsample_bynode': 0.48\n",
    "               , 'colsample_bytree': 0.8\n",
    "               ,'eta': 0.2\n",
    "               , 'gamma': 0\n",
    "               , 'lambda': 0.05\n",
    "               , 'max_depth': 5\n",
    "               , 'min_child_weight': 2\n",
    "               , \"booster\":\"gbtree\"\n",
    "               , 'objective': \"reg:squarederror\"}\n",
    "reg_xgb = xgb.train(params,dtrain,num_boost_round=98)\n",
    "y_pred_train = reg_xgb.predict(dtrain)\n",
    "y_pred_test = reg_xgb.predict(dtest)"
   ]
  },
  {
   "cell_type": "code",
   "execution_count": 10,
   "metadata": {},
   "outputs": [
    {
     "name": "stdout",
     "output_type": "stream",
     "text": [
      "r2_train: 0.9980645356882348\n",
      "r2_test: 0.9877207148017144\n",
      "mse_train: 0.00011108460320074727\n",
      "mse_test: 0.0007035371708260911\n",
      "rmse_train: 0.010539668078300533\n",
      "rmse_test: 0.026524275123480587\n"
     ]
    }
   ],
   "source": [
    "xgb_skl = XGBRegressor(colsample_bynode=0.5\n",
    "               , colsample_bytree=0.75\n",
    "               ,learning_rate=0.2\n",
    "               , gamma=0\n",
    "               , reg_lambda=0.44\n",
    "               , max_depth=5\n",
    "               , min_child_weight=2\n",
    "               , booster=\"gbtree\"\n",
    "               , objective=\"reg:squarederror\"\n",
    "               ,n_estimators=140).fit(Xtrain,Ytrain)\n",
    "function.eval_regressor(xgb_skl, Xtrain, Ytrain, Xtest, Ytest)"
   ]
  },
  {
   "cell_type": "code",
   "execution_count": null,
   "metadata": {},
   "outputs": [],
   "source": [
    "joblib.dump(xgb_skl, \"xgb.dat\")"
   ]
  }
 ],
 "metadata": {
  "kernelspec": {
   "display_name": "channel",
   "language": "python",
   "name": "python3"
  },
  "language_info": {
   "codemirror_mode": {
    "name": "ipython",
    "version": 3
   },
   "file_extension": ".py",
   "mimetype": "text/x-python",
   "name": "python",
   "nbconvert_exporter": "python",
   "pygments_lexer": "ipython3",
   "version": "3.8.16"
  },
  "orig_nbformat": 4
 },
 "nbformat": 4,
 "nbformat_minor": 2
}
