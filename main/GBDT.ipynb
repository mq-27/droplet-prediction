{
 "cells": [
  {
   "cell_type": "code",
   "execution_count": 1,
   "id": "0654603b-4c7a-491a-93d2-c49b00d66e60",
   "metadata": {},
   "outputs": [],
   "source": [
    "from copy import deepcopy\n",
    "import numpy as np\n",
    "%matplotlib inline\n",
    "import pandas as pd\n",
    "from sklearn.model_selection import train_test_split as tts\n",
    "from sklearn.model_selection import KFold, cross_validate \n",
    "from sklearn.ensemble import GradientBoostingRegressor\n",
    "from hyperopt import hp, fmin, tpe, Trials\n",
    "from hyperopt.early_stop import no_progress_loss\n",
    "import joblib \n",
    "import warnings \n",
    "warnings.filterwarnings(\"ignore\") \n",
    "from warnings import simplefilter\n",
    "simplefilter(action='ignore', category=FutureWarning)\n",
    "import function"
   ]
  },
  {
   "cell_type": "code",
   "execution_count": 2,
   "id": "5f1efc56-99ce-4f6a-9d5a-5021d3fd8bf9",
   "metadata": {},
   "outputs": [],
   "source": [
    "df2_backup = pd.read_csv(\"data_model.csv\", index_col='Unnamed: 0')\n",
    "df2 = deepcopy(df2_backup)"
   ]
  },
  {
   "cell_type": "code",
   "execution_count": 3,
   "id": "70dfec16-c0cb-4a61-a049-c29ec49c1f42",
   "metadata": {},
   "outputs": [],
   "source": [
    "X, y = df2.iloc[:, :-1], df2.iloc[:, -1]\n",
    "Xtrain, Xtest, Ytrain, Ytest = tts(X, y, test_size=0.3, random_state=10)\n",
    "for i in [Xtrain, Xtest]:\n",
    "    i.index = range(i.shape[0])"
   ]
  },
  {
   "cell_type": "code",
   "execution_count": 5,
   "id": "015eeacc-4be1-4e40-acc9-9cd090f43fd2",
   "metadata": {},
   "outputs": [
    {
     "name": "stdout",
     "output_type": "stream",
     "text": [
      "r2_train: 0.9787866814706709\n",
      "r2_test: 0.9642061608970356\n",
      "mse_train: 0.0012175233906805774\n",
      "mse_test: 0.0020507949680181603\n",
      "rmse_train: 0.03489302782334284\n",
      "rmse_test: 0.04528570379289871\n"
     ]
    }
   ],
   "source": [
    "#GBDT\n",
    "gb1 = GradientBoostingRegressor(random_state=1).fit(Xtrain, Ytrain)\n",
    "\n",
    "function.eval_regressor(gb1, Xtrain, Ytrain, Xtest, Ytest)"
   ]
  },
  {
   "cell_type": "code",
   "execution_count": 6,
   "id": "c031202c-10d2-404b-96ab-3c6b82d8f9c1",
   "metadata": {},
   "outputs": [],
   "source": [
    "def param_hyperopt(max_evals=100):\n",
    "    trials = Trials()\n",
    "\n",
    "    early_stop_fn = no_progress_loss(100)\n",
    "\n",
    "    params_best = fmin(hyperopt_objective, \n",
    "                       space=param_grid_simple, \n",
    "                       algo=tpe.suggest, \n",
    "                       max_evals=max_evals,\n",
    "                       verbose=True,\n",
    "                       trials=trials,\n",
    "                       early_stop_fn=early_stop_fn\n",
    "                      )\n",
    "\n",
    "    print(\"\\n\",\"\\n\",\"best params: \", params_best,\n",
    "          \"\\n\")\n",
    "    return params_best, trials"
   ]
  },
  {
   "cell_type": "code",
   "execution_count": 7,
   "id": "9c7fa61f-62d0-4bf2-ab11-289b7876a150",
   "metadata": {},
   "outputs": [],
   "source": [
    "def hyperopt_objective(params):\n",
    "\n",
    "    reg = GradientBoostingRegressor(n_estimators=int(params[\"n_estimators\"]),\n",
    "                                    learning_rate=params[\"lr\"],\n",
    "                                    criterion=params[\"criterion\"],\n",
    "                                    loss=params[\"loss\"] ,\n",
    "                                    max_features=int(params[\"max_features\"]),\n",
    "                                    subsample=params[\"subsample\"],\n",
    "                                    random_state=1,\n",
    "                                    verbose=False)\n",
    "\n",
    "    cv = KFold(n_splits=5,shuffle=True,random_state=1)\n",
    "    validation_loss = cross_validate(reg,\n",
    "                                     Xtrain,Ytrain,\n",
    "                                     scoring=\"neg_root_mean_squared_error\",\n",
    "                                     cv=cv,\n",
    "                                     verbose=False,\n",
    "                                     n_jobs=6,\n",
    "                                     error_score='raise'\n",
    "                                    )\n",
    "\n",
    "    return np.mean(abs(validation_loss[\"test_score\"]))"
   ]
  },
  {
   "cell_type": "code",
   "execution_count": 8,
   "id": "9d67a0f2-70d2-4cc4-8534-f4276519f25d",
   "metadata": {},
   "outputs": [],
   "source": [
    "param_grid_simple = {\"n_estimators\": hp.quniform(\"n_estimators\", 5, 200, 5),\n",
    "                     \"lr\": hp.quniform(\"learning_rate\", 0.05, 1, 0.05),\n",
    "                     \"criterion\": hp.choice(\"criterion\",[\"friedman_mse\", \"squared_error\"]),\n",
    "                     \"loss\":hp.choice(\"loss\",[\"squared_error\", \"huber\", \"quantile\"]),\n",
    "                     \"subsample\": hp.quniform(\"subsample\", 0.1, 0.8, 0.1),\n",
    "                     \"max_features\": hp.quniform(\"max_features\",1,25,1)\n",
    "                    }"
   ]
  },
  {
   "cell_type": "code",
   "execution_count": 9,
   "id": "80474090-72cc-4c02-a486-653a78893c19",
   "metadata": {},
   "outputs": [
    {
     "name": "stdout",
     "output_type": "stream",
     "text": [
      "100%|██████████| 140/140 [00:25<00:00,  5.51trial/s, best loss: 0.03295534054678871]\n",
      "\n",
      " \n",
      " best params:  {'criterion': 1, 'learning_rate': 0.2, 'loss': 0, 'max_features': 18.0, 'n_estimators': 190.0, 'subsample': 0.7000000000000001} \n",
      "\n"
     ]
    }
   ],
   "source": [
    "params_best, trials = param_hyperopt(140)"
   ]
  },
  {
   "cell_type": "code",
   "execution_count": 10,
   "id": "b7f6b190-be57-4c1a-b80e-a8c6520aaabc",
   "metadata": {},
   "outputs": [
    {
     "name": "stdout",
     "output_type": "stream",
     "text": [
      "r2_train: 0.992167453526862\n",
      "r2_test: 0.9822736240042149\n",
      "mse_train: 0.00044954345669460016\n",
      "mse_test: 0.0010156262531320149\n",
      "rmse_train: 0.02120243987598126\n",
      "rmse_test: 0.031868891620701445\n"
     ]
    }
   ],
   "source": [
    "reg3 = GradientBoostingRegressor(#init=rf,\n",
    "                                 n_estimators=215,\n",
    "                                 criterion='squared_error',\n",
    "                                 learning_rate=0.18049172029558583,\n",
    "                                 loss='squared_error',\n",
    "                                 max_features=5,\n",
    "                                 subsample=0.752290959272556,\n",
    "                                 random_state=1).fit(Xtrain, Ytrain)\n",
    "\n",
    "function.eval_regressor(reg3, Xtrain, Ytrain, Xtest, Ytest)"
   ]
  },
  {
   "cell_type": "code",
   "execution_count": 8,
   "id": "5f46f113-1c62-473c-81a5-bf52ea580881",
   "metadata": {},
   "outputs": [
    {
     "data": {
      "text/plain": [
       "['gbdt.dat']"
      ]
     },
     "execution_count": 8,
     "metadata": {},
     "output_type": "execute_result"
    }
   ],
   "source": [
    "joblib.dump(reg3, \"gbdt.dat\")"
   ]
  }
 ],
 "metadata": {
  "kernelspec": {
   "display_name": "Python 3 (ipykernel)",
   "language": "python",
   "name": "python3"
  },
  "language_info": {
   "codemirror_mode": {
    "name": "ipython",
    "version": 3
   },
   "file_extension": ".py",
   "mimetype": "text/x-python",
   "name": "python",
   "nbconvert_exporter": "python",
   "pygments_lexer": "ipython3",
   "version": "3.8.16"
  }
 },
 "nbformat": 4,
 "nbformat_minor": 5
}
